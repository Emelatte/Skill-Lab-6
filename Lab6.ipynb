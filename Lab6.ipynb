{
 "cells": [
  {
   "cell_type": "code",
   "execution_count": null,
   "id": "acd38455-bf13-4403-a46f-7dbf1e505e25",
   "metadata": {},
   "outputs": [
    {
     "name": "stdin",
     "output_type": "stream",
     "text": [
      "What is your name? emily\n"
     ]
    }
   ],
   "source": [
    "name = input(\"What is your name?\")\n",
    "color = input(\"Hello \" + name + \", What is your favorite color out of the rainbow?\")\n",
    "\n",
    "rainbow_colors = [\"red\", \"orange\", \"yellow\", \"green\", \"blue\", \"purple\"]\n",
    "\n",
    "if color not in rainbow_colors:\n",
    "    print(\"That's not one of the 6 main colors!\")\n",
    "elif color == \"purple\":\n",
    "    print(\"That's my favorite color too!\")\n",
    "elif color in [\"blue\", \"red\"]:\n",
    "    print(\"I like that color too but it's not my favorite.\")\n",
    "else:\n",
    "    print(\"You picked a pretty bad color.\")"
   ]
  },
  {
   "cell_type": "code",
   "execution_count": null,
   "id": "3db04722-2e04-442a-b81f-5e5e7ede99a3",
   "metadata": {},
   "outputs": [],
   "source": []
  }
 ],
 "metadata": {
  "kernelspec": {
   "display_name": "Python 3 (ipykernel)",
   "language": "python",
   "name": "python3"
  },
  "language_info": {
   "codemirror_mode": {
    "name": "ipython",
    "version": 3
   },
   "file_extension": ".py",
   "mimetype": "text/x-python",
   "name": "python",
   "nbconvert_exporter": "python",
   "pygments_lexer": "ipython3",
   "version": "3.12.4"
  }
 },
 "nbformat": 4,
 "nbformat_minor": 5
}
